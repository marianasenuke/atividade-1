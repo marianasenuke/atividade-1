{
 "cells": [
  {
   "cell_type": "markdown",
   "id": "63b2b958",
   "metadata": {},
   "source": [
    "# Atividade 1 (Mínima):\n"
   ]
  },
  {
   "cell_type": "code",
   "execution_count": 1,
   "id": "32e24c4b",
   "metadata": {},
   "outputs": [
    {
     "name": "stdout",
     "output_type": "stream",
     "text": [
      "O fatorial de 3 é 6\n",
      "O fatorial de 1 é 1\n",
      "O fatorial de 10 é 3628800\n",
      "O fatorial de 0 é 1\n"
     ]
    }
   ],
   "source": [
    "#Fatorial:\n",
    "\n",
    "def fatorial(n):\n",
    "    '''\n",
    "    Calcula e retorna o fatorial de n.\n",
    "\n",
    "    Argumentos\n",
    "    ----------\n",
    "    n : int\n",
    "        O número para o qual calcular o fatorial.\n",
    "\n",
    "    Retorna\n",
    "    -------\n",
    "    int\n",
    "        O fatorial de n.\n",
    "    '''\n",
    "    # Inicializa a variável 'resultado' com 1.\n",
    "    #essa variável armazenará o resultado do cálculo.\n",
    "    resultado = 1\n",
    "\n",
    "    # Loop que itera de 1 até n .\n",
    "    # Em cada iteração, o valor de 'i' é multiplicado pelo valor do resultado anterior\n",
    "    for i in range(1, n + 1):\n",
    "        resultado *= i  # resultado = resultado * i\n",
    "\n",
    "    # Retorna o valor final do fatorial.\n",
    "    return resultado\n",
    "\n",
    "\n",
    "# Testes da função fatorial\n",
    "\n",
    "# Teste 1: Fatorial de 3 (3! = 3 * 2 * 1 = 6)\n",
    "print(f'O fatorial de 3 é {fatorial(3)}')\n",
    "\n",
    "# Teste 2: Fatorial de 1 (1! = 1)\n",
    "print(f'O fatorial de 1 é {fatorial(1)}')\n",
    "\n",
    "# Teste 3: Fatorial de 10 (10! = 10 * 9 * 8 * ... * 1 = 3628800)\n",
    "f10 = fatorial(10)\n",
    "print(f'O fatorial de 10 é {f10}')\n",
    "\n",
    "# Teste 4: Fatorial de 0 (0! = 1, por definição)\n",
    "f0 = fatorial(0)\n",
    "print(f'O fatorial de 0 é {f0}')"
   ]
  },
  {
   "cell_type": "markdown",
   "id": "202b1aaf",
   "metadata": {},
   "source": [
    "# Fibonacci"
   ]
  },
  {
   "cell_type": "code",
   "execution_count": 2,
   "id": "fe7fba3b",
   "metadata": {},
   "outputs": [
    {
     "name": "stdout",
     "output_type": "stream",
     "text": [
      "Sequência dos 5 primeiros números de Fibonacci: [0, 1, 1, 2, 3]\n",
      "Sequência dos 20 primeiros números de Fibonacci: [0, 1, 1, 2, 3, 5, 8, 13, 21, 34, 55, 89, 144, 233, 377, 610, 987, 1597, 2584, 4181]\n",
      "Sequência dos 30 primeiros números de Fibonacci: [0, 1, 1, 2, 3, 5, 8, 13, 21, 34, 55, 89, 144, 233, 377, 610, 987, 1597, 2584, 4181, 6765, 10946, 17711, 28657, 46368, 75025, 121393, 196418, 317811, 514229]\n"
     ]
    }
   ],
   "source": [
    "def fibonacci(n):\n",
    "\n",
    "    #se n for 0, retorna uma lista vazia.\n",
    "    if n == 0:\n",
    "        return []\n",
    "\n",
    "    #se n for 1, retorna uma lista contendo apenas o primeiro número da sequência (0).\n",
    "    if n == 1:\n",
    "        return [0]\n",
    "\n",
    "    # Inicializa a lista com os dois primeiros números da sequência de Fibonacci.\n",
    "    sequencia = [0, 1]\n",
    "\n",
    "    # Loop para gerar os números restantes da sequência.\n",
    "    # Começa no 2 porque os dois primeiros números já estão na lista.\n",
    "    for i in range(2, n):\n",
    "        # O próximo número é a soma dos dois últimos números da lista.\n",
    "        proximo = sequencia[-1] + sequencia[-2]\n",
    "        # Adiciona o próximo número à lista.\n",
    "        sequencia.append(proximo)\n",
    "\n",
    "    # Retorna a lista com os n primeiros números da sequência.\n",
    "    return sequencia\n",
    "\n",
    "\n",
    "# Testes as funções fibonacci:\n",
    "\n",
    "# Teste 1: Sequência dos 5 primeiros números de Fibonacci.\n",
    "print('Sequência dos 5 primeiros números de Fibonacci:', fibonacci(5))\n",
    "\n",
    "# Teste 2: Sequência dos 20 primeiros números de Fibonacci.\n",
    "f = fibonacci(20)\n",
    "print('Sequência dos 20 primeiros números de Fibonacci:', f)\n",
    "\n",
    "# Teste 3: Sequência dos 30 primeiros números de Fibonacci.\n",
    "numero = 30\n",
    "f = fibonacci(numero)\n",
    "print(f'Sequência dos {numero} primeiros números de Fibonacci: {f}')"
   ]
  },
  {
   "cell_type": "markdown",
   "id": "3c85817c",
   "metadata": {},
   "source": [
    "# Bhaskara"
   ]
  },
  {
   "cell_type": "code",
   "execution_count": 3,
   "id": "9958ec3e",
   "metadata": {},
   "outputs": [
    {
     "name": "stdout",
     "output_type": "stream",
     "text": [
      "As raízes são: (1.0, -7.0)\n"
     ]
    }
   ],
   "source": [
    "def bhaskara(a, b, c):\n",
    "    \"\"\"\n",
    "    Calcula as raízes de uma equação do segundo grau usando a Fórmula de Bhaskara.\n",
    "\n",
    "    Parâmetros:\n",
    "    a (float): Coeficiente do termo quadrático.\n",
    "    b (float): Coeficiente do termo linear.\n",
    "    c (float): constante.\n",
    "\n",
    "    Retorna:\n",
    "    tuple: Uma tupla contendo as duas raízes reais da equação, se existirem.\n",
    "    \"\"\"\n",
    "    delta = b * b - 4 * a * c  # Calcula o delta\n",
    "     # Verifica se o delta é negativo (nesse caso, não há raízes reais)\n",
    "    if delta < 0:\n",
    "        return \"A equação não possui raízes reais.\"  # Retorna uma mensagem caso não existam raízes reais\n",
    "    # Calcula as raízes usando a fórmula de Bhaskara\n",
    "    x1 = (-b + (delta ** 0.5)) / (2 * a)  # Calcula a primeira raiz\n",
    "    x2 = (-b - (delta ** 0.5)) / (2 * a)  # Calcula a segunda raiz\n",
    "\n",
    "    return x1, x2  # Retorna as raízes como uma tupla\n",
    "\n",
    "#apresentando os resultados e printando:\n",
    "resultado = bhaskara(2, 12, -14)\n",
    "print('As raízes são:', resultado)"
   ]
  },
  {
   "cell_type": "markdown",
   "id": "75fc695a",
   "metadata": {},
   "source": [
    "# Divisores"
   ]
  },
  {
   "cell_type": "code",
   "execution_count": 4,
   "id": "2d91a2bd",
   "metadata": {},
   "outputs": [
    {
     "name": "stdout",
     "output_type": "stream",
     "text": [
      "Sim\n",
      "Não\n"
     ]
    }
   ],
   "source": [
    "def is_divisor(a, b):\n",
    "    \"\"\"\n",
    "    Verifica se 'a' pode ser dividido por 'b' sem deixar resto.\n",
    "\n",
    "    Parâmetros:\n",
    "    a (int): Número a ser dividido.\n",
    "    b (int): Número pelo qual será feita a divisão.\n",
    "\n",
    "    Retorna:\n",
    "    str: \"Sim\" se 'a' for divisível por 'b', senão \"Não\".\n",
    "    \"\"\"\n",
    "    #Verifica se 'b' é zero, pois divisão por zero não é definida\n",
    "    if b == 0:\n",
    "        return \"Não é possível dividir por zero.\"\n",
    "     # Verifica se 'a' é divisível por 'b' usando o operador de módulo (%)\n",
    "    if a % b == 0:\n",
    "        return \"Sim\" #Retorna \"Sim\" se a divisão for exata\n",
    "    else:\n",
    "        return \"Não\"  # Retorna \"Não\" se houver resto na divisão\n",
    "\n",
    "\n",
    "\n",
    "print(is_divisor(10, 2))  # Retorna \"Sim\" porque 10 é divisível por 2\n",
    "print(is_divisor(7, 3))   # Retorna \"Não\" porque 7 não é divisível por 3\n"
   ]
  },
  {
   "cell_type": "markdown",
   "id": "fe4f1c70",
   "metadata": {},
   "source": [
    "# Fatorial"
   ]
  },
  {
   "cell_type": "code",
   "execution_count": 5,
   "id": "fb9a64c2",
   "metadata": {},
   "outputs": [
    {
     "name": "stdout",
     "output_type": "stream",
     "text": [
      "Fatorial com while: 120\n",
      "Fatorial com recursão: 120\n"
     ]
    }
   ],
   "source": [
    "# Cálculo do fatorial usando loop while\n",
    "def fatorial_while(n):\n",
    "    \"\"\"\n",
    "    Calcula o fatorial de um número usando loop while.\n",
    "    \"\"\"\n",
    "    # Verifica se o número é negativo\n",
    "    if n < 0:\n",
    "        return \"Não existe fatorial de número negativo.\"\n",
    "\n",
    "    fatorial = 1\n",
    "    #Enquanto 'n' for maior que 1, multiplica 'fatorial' pelo valor de 'n'\n",
    "    while n > 1:\n",
    "        fatorial *= n\n",
    "        n -= 1\n",
    "\n",
    "    return fatorial #Retorna o valor do fatorial calculado\n",
    "\n",
    "#while= tem o numero de parada, mas vc ainda não sabe\n",
    "print(\"Fatorial com while:\", fatorial_while(5))\n",
    "\n",
    "\n",
    "# Cálculo do fatorial usando recursão\n",
    "def fatorial_recursivo(n):\n",
    "    \"\"\"\n",
    "    Calcula o fatorial de um número usando recursão.\n",
    "    \"\"\"\n",
    "    # Verifica se o número é negativo\n",
    "    if n < 0:\n",
    "        return \"Não existe fatorial de número negativo.\"\n",
    "    if n == 0 or n == 1:\n",
    "        return 1\n",
    "    return n * fatorial_recursivo(n - 1)\n",
    "\n",
    "# Exemplo de uso\n",
    "print(\"Fatorial com recursão:\", fatorial_recursivo(5))\n",
    "#OBS: Não quer que use função recursiva"
   ]
  },
  {
   "cell_type": "markdown",
   "id": "71666de6",
   "metadata": {},
   "source": [
    "# Gerando a sequência de Fibonacci"
   ]
  },
  {
   "cell_type": "code",
   "execution_count": 6,
   "id": "3aba6621",
   "metadata": {},
   "outputs": [
    {
     "name": "stdout",
     "output_type": "stream",
     "text": [
      "Fibonacci completo: [0, 1, 1, 2, 3, 5, 8, 13, 21, 34]\n",
      "Último número de Fibonacci: 34\n"
     ]
    }
   ],
   "source": [
    "def fibonacci(n, lista_completa=True):\n",
    "    \"\"\"\n",
    "    Gera a sequência de Fibonacci até o n-ésimo termo.\n",
    "    \"\"\"\n",
    "    # Verifica se o número fornecido é válido (deve ser maior que 0)\n",
    "    if n <= 0:\n",
    "        return \"Número inválido. Escolha n maior que 0.\"\n",
    "    #icializa a sequência com os dois primeiros termos padrão de Fibonacci:0 e 1\n",
    "    sequencia = [0, 1]\n",
    "    # Calcula os próximos termos até o n-ésimo termo\n",
    "    for i in range(2, n):\n",
    "        sequencia.append(sequencia[-1] + sequencia[-2]) #soma os 2 utimos elementos da lista e adiciona à sequência\n",
    "\n",
    "    return sequencia if lista_completa else sequencia[-1]\n",
    "\n",
    "# Exemplos de uso\n",
    "print(\"Fibonacci completo:\", fibonacci(10))\n",
    "print(\"Último número de Fibonacci:\", fibonacci(10, lista_completa=False))"
   ]
  },
  {
   "cell_type": "code",
   "execution_count": 8,
   "id": "a2818163",
   "metadata": {},
   "outputs": [
    {
     "name": "stdout",
     "output_type": "stream",
     "text": [
      "Bhaskara com raízes reais: (2.0, 1.0)\n",
      "Bhaskara com raízes complexas: ((-1.0, 1.4142135623730951), (-1.0, -1.4142135623730951))\n"
     ]
    }
   ],
   "source": [
    "#Bhaskara\n",
    "def bhaskara(a, b, c):\n",
    "    \"\"\"\n",
    "    Calcula as raízes da equação do segundo grau, incluindo raízes complexas.\n",
    "    \"\"\"\n",
    "    #Caso as raízes sejam reais\n",
    "    if a == 0:\n",
    "\n",
    "        return (-c / b, -c / b)\n",
    "\n",
    "    delta = b**2 - 4*a*c #Fórmula\n",
    "\n",
    "    if delta >= 0: #(se o delta for maior que zero)\n",
    "        x1 = (-b + delta ** 0.5) / (2 * a)\n",
    "        x2 = (-b - delta ** 0.5) / (2 * a)\n",
    "    else:\n",
    "      # Caso as raízes sejam complexa\n",
    "        parte_real = -b / (2 * a)\n",
    "        parte_imaginaria = (-delta) ** 0.5 / (2 * a)\n",
    "          #Representando as raízes como números complexos (tuplas)\n",
    "        x1 = (parte_real, parte_imaginaria)\n",
    "        x2 = (parte_real, -parte_imaginaria)\n",
    "\n",
    "    return x1, x2 #Retorna as raízes calculadas\n",
    "#printando os resultados\n",
    "print(\"Bhaskara com raízes reais:\", bhaskara(1, -3, 2))\n",
    "print(\"Bhaskara com raízes complexas:\", bhaskara(1, 2, 3))"
   ]
  },
  {
   "cell_type": "code",
   "execution_count": 9,
   "id": "f2aa598d",
   "metadata": {},
   "outputs": [
    {
     "name": "stdout",
     "output_type": "stream",
     "text": [
      "120\n",
      "1\n"
     ]
    }
   ],
   "source": [
    "#Cálculo do Fatorial com assert:\n",
    "def fatorial(n):\n",
    "    \"\"\"Calcula o fatorial de um número n, garantindo que n seja um inteiro não negativo.\"\"\"\n",
    "    assert isinstance(n, int), \"Erro: o valor de n deve ser um número inteiro.\"\n",
    "    #A isinstance()função retorna True se o objeto especificado for do tipo especificado, caso contrário False.\n",
    "    assert n >= 0, \"Erro: o valor de n deve ser um inteiro não negativo.\"\n",
    "    # assert testa se uma condição no seu código retorna True\n",
    "\n",
    "    if n == 0 or n == 1:\n",
    "        return 1 #Retorna diretamente sem fazer cálculos desnecessário\n",
    "\n",
    "    resultado = 1\n",
    "    for i in range(2, n + 1):\n",
    "        resultado *= i\n",
    "    return resultado\n",
    "\n",
    "# Teste\n",
    "print(fatorial(5))  # 120\n",
    "print(fatorial(0))  # 1\n",
    "# print(fatorial(4.5))  # Erro de tipo\n"
   ]
  },
  {
   "cell_type": "code",
   "execution_count": 10,
   "id": "0c62f714",
   "metadata": {},
   "outputs": [
    {
     "name": "stdout",
     "output_type": "stream",
     "text": [
      "8\n",
      "[0, 1, 1, 2, 3, 5, 8]\n",
      "0\n",
      "1\n",
      "[0, 1, 1]\n"
     ]
    }
   ],
   "source": [
    "# Sequência de Fibonacci com assert\n",
    "def fibonacci(n, lista_completa=False):\n",
    "    \"\"\"Retorna o n-ésimo termo da sequência de Fibonacci ou a sequência completa até o n-ésimo termo.\"\"\"\n",
    "    assert isinstance(n, int), \"Erro: o valor de n deve ser um número inteiro.\"\n",
    "    assert n >= 0, \"Erro: o valor de n deve ser um inteiro não negativo.\"\n",
    "\n",
    "    sequencia = [0, 1]\n",
    "    for _ in range(2, n + 1):\n",
    "        sequencia.append(sequencia[-1] + sequencia[-2]) #acresenta números a sequência\n",
    "\n",
    "    if lista_completa:\n",
    "        return sequencia #retorna a sequência da lista completa\n",
    "    else:\n",
    "        return sequencia[n]\n",
    "\n",
    "# Testes\n",
    "print(fibonacci(6))  # 8\n",
    "print(fibonacci(6, True))  # [0, 1, 1, 2, 3, 5, 8]\n",
    "print(fibonacci(0))  # 0\n",
    "print(fibonacci(1))  # 1\n",
    "print(fibonacci(2, True))  # [0, 1, 1]\n",
    "\n"
   ]
  },
  {
   "cell_type": "code",
   "execution_count": 12,
   "id": "746798c6",
   "metadata": {},
   "outputs": [
    {
     "ename": "NameError",
     "evalue": "name 'math' is not defined",
     "output_type": "error",
     "traceback": [
      "\u001b[1;31m---------------------------------------------------------------------------\u001b[0m",
      "\u001b[1;31mNameError\u001b[0m                                 Traceback (most recent call last)",
      "Cell \u001b[1;32mIn[12], line 21\u001b[0m\n\u001b[0;32m     18\u001b[0m     \u001b[38;5;28;01mreturn\u001b[39;00m (raiz1,) \u001b[38;5;28;01mif\u001b[39;00m raiz1 \u001b[38;5;241m==\u001b[39m raiz2 \u001b[38;5;28;01melse\u001b[39;00m (raiz1, raiz2)\n\u001b[0;32m     20\u001b[0m \u001b[38;5;66;03m# Testes\u001b[39;00m\n\u001b[1;32m---> 21\u001b[0m \u001b[38;5;28mprint\u001b[39m(bhaskara(\u001b[38;5;241m1\u001b[39m, \u001b[38;5;241m-\u001b[39m\u001b[38;5;241m3\u001b[39m, \u001b[38;5;241m2\u001b[39m))  \u001b[38;5;66;03m# (2.0, 1.0)\u001b[39;00m\n\u001b[0;32m     22\u001b[0m \u001b[38;5;28mprint\u001b[39m(bhaskara(\u001b[38;5;241m1\u001b[39m, \u001b[38;5;241m-\u001b[39m\u001b[38;5;241m2\u001b[39m, \u001b[38;5;241m1\u001b[39m))  \u001b[38;5;66;03m# (1.0,)\u001b[39;00m\n\u001b[0;32m     23\u001b[0m \u001b[38;5;28mprint\u001b[39m(bhaskara(\u001b[38;5;241m1\u001b[39m, \u001b[38;5;241m2\u001b[39m, \u001b[38;5;241m3\u001b[39m))\n",
      "Cell \u001b[1;32mIn[12], line 15\u001b[0m, in \u001b[0;36mbhaskara\u001b[1;34m(a, b, c)\u001b[0m\n\u001b[0;32m     12\u001b[0m \u001b[38;5;28;01mif\u001b[39;00m delta \u001b[38;5;241m<\u001b[39m \u001b[38;5;241m0\u001b[39m:\n\u001b[0;32m     13\u001b[0m     \u001b[38;5;28;01mreturn\u001b[39;00m \u001b[38;5;124m\"\u001b[39m\u001b[38;5;124mA equação não possui raízes reais.\u001b[39m\u001b[38;5;124m\"\u001b[39m\n\u001b[1;32m---> 15\u001b[0m raiz1 \u001b[38;5;241m=\u001b[39m (\u001b[38;5;241m-\u001b[39mb \u001b[38;5;241m+\u001b[39m math\u001b[38;5;241m.\u001b[39msqrt(delta)) \u001b[38;5;241m/\u001b[39m (\u001b[38;5;241m2\u001b[39m\u001b[38;5;241m*\u001b[39ma)\n\u001b[0;32m     16\u001b[0m raiz2 \u001b[38;5;241m=\u001b[39m (\u001b[38;5;241m-\u001b[39mb \u001b[38;5;241m-\u001b[39m math\u001b[38;5;241m.\u001b[39msqrt(delta)) \u001b[38;5;241m/\u001b[39m (\u001b[38;5;241m2\u001b[39m\u001b[38;5;241m*\u001b[39ma)\n\u001b[0;32m     18\u001b[0m \u001b[38;5;28;01mreturn\u001b[39;00m (raiz1,) \u001b[38;5;28;01mif\u001b[39;00m raiz1 \u001b[38;5;241m==\u001b[39m raiz2 \u001b[38;5;28;01melse\u001b[39;00m (raiz1, raiz2)\n",
      "\u001b[1;31mNameError\u001b[0m: name 'math' is not defined"
     ]
    }
   ],
   "source": [
    "#Fórmula de Bhaskara com assert\n",
    "def bhaskara(a, b, c):\n",
    "    \"\"\"Resolve equações do 2º grau usando a fórmula de Bhaskara.\"\"\"\n",
    "\n",
    "    assert isinstance(a, (int, float)), \"Erro: 'a' deve ser um número.\"\n",
    "    assert isinstance(b, (int, float)), \"Erro: 'b' deve ser um número.\"\n",
    "    assert isinstance(c, (int, float)), \"Erro: 'c' deve ser um número.\"\n",
    "    assert a != 0, \"Erro: 'a' deve ser diferente de zero.\"\n",
    "\n",
    "    delta = b**2 - 4*a*c\n",
    "\n",
    "    if delta < 0:\n",
    "        return \"A equação não possui raízes reais.\"\n",
    "\n",
    "    raiz1 = (-b + math.sqrt(delta)) / (2*a)\n",
    "    raiz2 = (-b - math.sqrt(delta)) / (2*a)\n",
    "\n",
    "    return (raiz1,) if raiz1 == raiz2 else (raiz1, raiz2)\n",
    "\n",
    "# Testes\n",
    "print(bhaskara(1, -3, 2))  # (2.0, 1.0)\n",
    "print(bhaskara(1, -2, 1))  # (1.0,)\n",
    "print(bhaskara(1, 2, 3))   # \"A equação não possui raízes reais.\"\n",
    "\n"
   ]
  },
  {
   "cell_type": "code",
   "execution_count": 13,
   "id": "bdf8c776",
   "metadata": {},
   "outputs": [
    {
     "name": "stdout",
     "output_type": "stream",
     "text": [
      "True\n",
      "True\n",
      "Erro: divisão por zero não é permitida.\n",
      "None\n"
     ]
    }
   ],
   "source": [
    "#Verificação de divisibilidade com assert e try/except\n",
    "def divisivel(a, b):\n",
    "    \"\"\"Verifica se 'a' é divisível por 'b'.\"\"\"\n",
    "    assert isinstance(a, (int, float)), \"Erro: a deve ser um número.\"\n",
    "    assert isinstance(b, (int, float)), \"Erro: b deve ser um número.\"\n",
    "    assert b != 0, \"Erro: b não pode ser zero.\"\n",
    "\n",
    "    return a % b == 0\n",
    "\n",
    "# Testes com assert\n",
    "print(divisivel(10, 2))  # True\n",
    "# print(divisivel(10, 0))  # Erro de assert\n",
    "\n",
    "#Com try/except:\n",
    "#try: permite que teste um bloco de código em busca de erros.\n",
    "#except: permite que você lide com o erro\n",
    "def divisivel_seguro(a, b):\n",
    "    \"\"\"Verifica se 'a' é divisível por 'b' com tratamento de erro.\"\"\"\n",
    "    try:\n",
    "        if b == 0:\n",
    "            raise ZeroDivisionError(\"Erro: divisão por zero não é permitida.\")\n",
    "        return a % b == 0\n",
    "    except ZeroDivisionError as e:\n",
    "        print(e)\n",
    "        return\n",
    "\n",
    "# Testes com tratamento de erro\n",
    "print(divisivel_seguro(10, 2))  # True\n",
    "print(divisivel_seguro(10, 0))  # Erro e retorna None\n",
    "\n"
   ]
  },
  {
   "cell_type": "code",
   "execution_count": null,
   "id": "e072fc47",
   "metadata": {},
   "outputs": [],
   "source": []
  }
 ],
 "metadata": {
  "kernelspec": {
   "display_name": "Python 3",
   "language": "python",
   "name": "python3"
  },
  "language_info": {
   "codemirror_mode": {
    "name": "ipython",
    "version": 3
   },
   "file_extension": ".py",
   "mimetype": "text/x-python",
   "name": "python",
   "nbconvert_exporter": "python",
   "pygments_lexer": "ipython3",
   "version": "3.11.11"
  }
 },
 "nbformat": 4,
 "nbformat_minor": 5
}
